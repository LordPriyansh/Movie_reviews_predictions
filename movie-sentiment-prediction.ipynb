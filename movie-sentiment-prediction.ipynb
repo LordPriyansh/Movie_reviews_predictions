{
 "cells": [
  {
   "cell_type": "code",
   "execution_count": 109,
   "metadata": {},
   "outputs": [],
   "source": [
    "import pandas as pd\n",
    "import bs4\n",
    "import re\n",
    "from nltk.corpus import stopwords\n",
    "import warnings\n",
    "warnings.filterwarnings(\"ignore\")\n",
    "import nltk\n",
    "from sklearn.feature_extraction.text import CountVectorizer, TfidfTransformer\n",
    "import numpy as np\n",
    "from sklearn.ensemble import RandomForestClassifier\n",
    "from sklearn.naive_bayes import MultinomialNB\n",
    "from sklearn.model_selection import train_test_split\n",
    "from matplotlib import pyplot as plt\n",
    "from sklearn.metrics import roc_curve, auc\n",
    "from sklearn.metrics import confusion_matrix"
   ]
  },
  {
   "cell_type": "markdown",
   "metadata": {},
   "source": [
    "### data analysis"
   ]
  },
  {
   "cell_type": "code",
   "execution_count": 110,
   "metadata": {},
   "outputs": [
    {
     "name": "stdout",
     "output_type": "stream",
     "text": [
      "this is the labled dataset\n",
      "         id  sentiment                                             review\n",
      "0  \"5814_8\"          1  \"With all this stuff going down at the moment ...\n",
      "1  \"2381_9\"          1  \"\\\"The Classic War of the Worlds\\\" by Timothy ...\n",
      "2  \"7759_3\"          0  \"The film starts with a manager (Nicholas Bell...\n",
      "3  \"3630_4\"          0  \"It must be assumed that those who praised thi...\n",
      "4  \"9495_8\"          1  \"Superbly trashy and wondrously unpretentious ...\n",
      "Shape of labled dataset : (25000, 3)\n",
      "\n",
      "this is the test dataset\n",
      "           id                                             review\n",
      "0  \"12311_10\"  \"Naturally in a film who's main themes are of ...\n",
      "1    \"8348_2\"  \"This movie is a disaster within a disaster fi...\n",
      "2    \"5828_4\"  \"All in all, this is a movie for kids. We saw ...\n",
      "3    \"7186_2\"  \"Afraid of the Dark left me with the impressio...\n",
      "4   \"12128_7\"  \"A very accurate depiction of small time mob l...\n",
      "Shape of test dataset : (25000, 2)\n"
     ]
    }
   ],
   "source": [
    "\n",
    "train_data = pd.read_csv(\"labeledTrainData.tsv.zip\", sep='\\t', quoting=3, header=0)\n",
    "print(\"this is the labled dataset\")\n",
    "print(train_data.head())\n",
    "print(\"Shape of labled dataset :\", train_data.shape)\n",
    "\n",
    "test_data = pd.read_csv(\"testData.tsv.zip\", sep='\\t', quoting=3, header=0)\n",
    "print(\"\\nthis is the test dataset\")\n",
    "print(test_data.head())\n",
    "print(\"Shape of test dataset :\", test_data.shape)\n"
   ]
  },
  {
   "cell_type": "markdown",
   "metadata": {},
   "source": [
    "## Part 1 : Bag of Words"
   ]
  },
  {
   "cell_type": "code",
   "execution_count": 111,
   "metadata": {},
   "outputs": [],
   "source": [
    "X_train, X_test, y_train, y_test = train_test_split(train_data.drop(columns=['sentiment']), train_data.sentiment, test_size=0.2, random_state=3)\n",
    "X_train = X_train.reset_index(drop=True)\n",
    "X_test = X_test.reset_index(drop=True)"
   ]
  },
  {
   "cell_type": "code",
   "execution_count": 112,
   "metadata": {},
   "outputs": [
    {
     "data": {
      "text/html": [
       "<div>\n",
       "<style scoped>\n",
       "    .dataframe tbody tr th:only-of-type {\n",
       "        vertical-align: middle;\n",
       "    }\n",
       "\n",
       "    .dataframe tbody tr th {\n",
       "        vertical-align: top;\n",
       "    }\n",
       "\n",
       "    .dataframe thead th {\n",
       "        text-align: right;\n",
       "    }\n",
       "</style>\n",
       "<table border=\"1\" class=\"dataframe\">\n",
       "  <thead>\n",
       "    <tr style=\"text-align: right;\">\n",
       "      <th></th>\n",
       "      <th>id</th>\n",
       "      <th>review</th>\n",
       "    </tr>\n",
       "  </thead>\n",
       "  <tbody>\n",
       "    <tr>\n",
       "      <th>0</th>\n",
       "      <td>\"9143_2\"</td>\n",
       "      <td>\"as an actor I really like independent films b...</td>\n",
       "    </tr>\n",
       "    <tr>\n",
       "      <th>1</th>\n",
       "      <td>\"5181_3\"</td>\n",
       "      <td>\"This is the first film of the Horrorfest I ha...</td>\n",
       "    </tr>\n",
       "    <tr>\n",
       "      <th>2</th>\n",
       "      <td>\"5003_4\"</td>\n",
       "      <td>\"I'm embarrassed to be writing this review. I ...</td>\n",
       "    </tr>\n",
       "    <tr>\n",
       "      <th>3</th>\n",
       "      <td>\"5563_8\"</td>\n",
       "      <td>\"The opening sequence alone is worth the cost ...</td>\n",
       "    </tr>\n",
       "    <tr>\n",
       "      <th>4</th>\n",
       "      <td>\"2603_8\"</td>\n",
       "      <td>\"Unfortunately, the director Amos Guttman died...</td>\n",
       "    </tr>\n",
       "  </tbody>\n",
       "</table>\n",
       "</div>"
      ],
      "text/plain": [
       "         id                                             review\n",
       "0  \"9143_2\"  \"as an actor I really like independent films b...\n",
       "1  \"5181_3\"  \"This is the first film of the Horrorfest I ha...\n",
       "2  \"5003_4\"  \"I'm embarrassed to be writing this review. I ...\n",
       "3  \"5563_8\"  \"The opening sequence alone is worth the cost ...\n",
       "4  \"2603_8\"  \"Unfortunately, the director Amos Guttman died..."
      ]
     },
     "execution_count": 112,
     "metadata": {},
     "output_type": "execute_result"
    }
   ],
   "source": [
    "X_train.head()"
   ]
  },
  {
   "cell_type": "code",
   "execution_count": 113,
   "metadata": {},
   "outputs": [
    {
     "data": {
      "text/html": [
       "<div>\n",
       "<style scoped>\n",
       "    .dataframe tbody tr th:only-of-type {\n",
       "        vertical-align: middle;\n",
       "    }\n",
       "\n",
       "    .dataframe tbody tr th {\n",
       "        vertical-align: top;\n",
       "    }\n",
       "\n",
       "    .dataframe thead th {\n",
       "        text-align: right;\n",
       "    }\n",
       "</style>\n",
       "<table border=\"1\" class=\"dataframe\">\n",
       "  <thead>\n",
       "    <tr style=\"text-align: right;\">\n",
       "      <th></th>\n",
       "      <th>id</th>\n",
       "      <th>review</th>\n",
       "    </tr>\n",
       "  </thead>\n",
       "  <tbody>\n",
       "    <tr>\n",
       "      <th>0</th>\n",
       "      <td>\"2033_1\"</td>\n",
       "      <td>\"If I could give it less that 1 I would. Do no...</td>\n",
       "    </tr>\n",
       "    <tr>\n",
       "      <th>1</th>\n",
       "      <td>\"10228_3\"</td>\n",
       "      <td>\"To be honest i had heard this was pretty bad ...</td>\n",
       "    </tr>\n",
       "    <tr>\n",
       "      <th>2</th>\n",
       "      <td>\"5105_4\"</td>\n",
       "      <td>\"I guess there are some out there that remembe...</td>\n",
       "    </tr>\n",
       "    <tr>\n",
       "      <th>3</th>\n",
       "      <td>\"11637_4\"</td>\n",
       "      <td>\"Uwe Boll has done the impossible: create a ga...</td>\n",
       "    </tr>\n",
       "    <tr>\n",
       "      <th>4</th>\n",
       "      <td>\"70_9\"</td>\n",
       "      <td>\"What a surprise; two outstanding performances...</td>\n",
       "    </tr>\n",
       "  </tbody>\n",
       "</table>\n",
       "</div>"
      ],
      "text/plain": [
       "          id                                             review\n",
       "0   \"2033_1\"  \"If I could give it less that 1 I would. Do no...\n",
       "1  \"10228_3\"  \"To be honest i had heard this was pretty bad ...\n",
       "2   \"5105_4\"  \"I guess there are some out there that remembe...\n",
       "3  \"11637_4\"  \"Uwe Boll has done the impossible: create a ga...\n",
       "4     \"70_9\"  \"What a surprise; two outstanding performances..."
      ]
     },
     "execution_count": 113,
     "metadata": {},
     "output_type": "execute_result"
    }
   ],
   "source": [
    "X_test.head()"
   ]
  },
  {
   "cell_type": "markdown",
   "metadata": {},
   "source": [
    "### preprocessing and cleaning"
   ]
  },
  {
   "cell_type": "code",
   "execution_count": 114,
   "metadata": {},
   "outputs": [],
   "source": [
    "def review_to_words(review, string = True, remove_stopwords=True):\n",
    "    review_text = bs4.BeautifulSoup(review).get_text()\n",
    "    review_text = re.sub(r\"[^A-Za-z]\", \" \", review_text)\n",
    "    \n",
    "    words = review_text.lower().split()\n",
    "    if remove_stopwords:\n",
    "        stops_wrds = set(stopwords.words(\"english\"))\n",
    "        words = [w for w in words if not w in stops_wrds]\n",
    "    if string:\n",
    "        return \" \".join(words)\n",
    "    else:\n",
    "        return words"
   ]
  },
  {
   "cell_type": "code",
   "execution_count": 115,
   "metadata": {},
   "outputs": [],
   "source": [
    "clean_trainData_reviews = X_train['review'].apply(review_to_words)\n",
    "clean_testData_reviews = X_test['review'].apply(review_to_words)"
   ]
  },
  {
   "cell_type": "code",
   "execution_count": 116,
   "metadata": {},
   "outputs": [
    {
     "data": {
      "text/plain": [
       "0    actor really like independent films one amateu...\n",
       "1    first film horrorfest watched im almost thinki...\n",
       "Name: review, dtype: object"
      ]
     },
     "execution_count": 116,
     "metadata": {},
     "output_type": "execute_result"
    }
   ],
   "source": [
    "clean_trainData_reviews[0:2]"
   ]
  },
  {
   "cell_type": "code",
   "execution_count": 117,
   "metadata": {},
   "outputs": [
    {
     "data": {
      "text/plain": [
       "0    could give less would bother rent someone give...\n",
       "1    honest heard pretty bad decided watch never on...\n",
       "Name: review, dtype: object"
      ]
     },
     "execution_count": 117,
     "metadata": {},
     "output_type": "execute_result"
    }
   ],
   "source": [
    "clean_testData_reviews[0:2]"
   ]
  },
  {
   "cell_type": "code",
   "execution_count": 118,
   "metadata": {},
   "outputs": [],
   "source": [
    "vectorizer = CountVectorizer(analyzer=\"word\", tokenizer=None,stop_words=None,preprocessor=None, max_features=9000)\n",
    "\n",
    "train_features = vectorizer.fit_transform(clean_trainData_reviews).toarray()\n",
    "test_features = vectorizer.transform(clean_testData_reviews).toarray()"
   ]
  },
  {
   "cell_type": "code",
   "execution_count": 119,
   "metadata": {},
   "outputs": [
    {
     "name": "stdout",
     "output_type": "stream",
     "text": [
      "['aaron', 'abandon', 'abandoned', 'abc', 'abilities', 'ability', 'able', 'aboard', 'abomination', 'abortion', 'abound', 'abraham', 'abrupt', 'abruptly', 'absence', 'absent', 'absolute', 'absolutely', 'absorbed', 'absorbing']\n"
     ]
    }
   ],
   "source": [
    "vocab = vectorizer.get_feature_names()\n",
    "print(vocab[0:20])"
   ]
  },
  {
   "cell_type": "markdown",
   "metadata": {},
   "source": [
    "### Making Models"
   ]
  },
  {
   "cell_type": "code",
   "execution_count": 120,
   "metadata": {},
   "outputs": [],
   "source": [
    "\n",
    "def get_predictions(test_feat, train_feat, y_test, y_train, model, title='Random Forest'):\n",
    "    model.fit(train_feat, y_train)\n",
    "    predictions = model.predict(test_feat)\n",
    "    fpr, tpr, _ = roc_curve(y_test, predictions)\n",
    "    roc_auc = auc(fpr, tpr)\n",
    "    print('AUC:', roc_auc)\n",
    "    print(\"confusion matrix :\\n\", confusion_matrix(y_test, predictions))\n",
    "    plt.plot(fpr, tpr)\n",
    "    plt.title(title)\n",
    "    plt.plot([0, 1], [0, 1], color='navy', linestyle='--')\n",
    "    plt.xlabel('False Positive Rate')\n",
    "    plt.ylabel('True Positive Rate')\n",
    "    plt.show()\n",
    "    return predictions"
   ]
  },
  {
   "cell_type": "markdown",
   "metadata": {},
   "source": [
    "Accuracy before tf-idf term frequency - inverse document frequency"
   ]
  },
  {
   "cell_type": "code",
   "execution_count": 121,
   "metadata": {},
   "outputs": [
    {
     "name": "stdout",
     "output_type": "stream",
     "text": [
      "AUC: 0.8506461338772305\n",
      "confusion matrix :\n",
      " [[2129  354]\n",
      " [ 393 2124]]\n"
     ]
    },
    {
     "data": {
      "image/png": "[encoded data removed]",
      "text/plain": [
       "<Figure size 432x288 with 1 Axes>"
      ]
     },
     "metadata": {
      "needs_background": "light"
     },
     "output_type": "display_data"
    }
   ],
   "source": [
    "rf_predictions = get_predictions(test_features, train_features, y_test, y_train, RandomForestClassifier(n_estimators=100, random_state=34), \"Accuracy of random forest classifier\")"
   ]
  },
  {
   "cell_type": "code",
   "execution_count": 122,
   "metadata": {},
   "outputs": [
    {
     "name": "stdout",
     "output_type": "stream",
     "text": [
      "AUC: 0.8542571808520426\n",
      "confusion matrix :\n",
      " [[2142  341]\n",
      " [ 388 2129]]\n"
     ]
    },
    {
     "data": {
      "image/png": "[encoded data removed]",
      "text/plain": [
       "<Figure size 432x288 with 1 Axes>"
      ]
     },
     "metadata": {
      "needs_background": "light"
     },
     "output_type": "display_data"
    }
   ],
   "source": [
    "nb_predictions = get_predictions(test_features, train_features, y_test, y_train, MultinomialNB(), \"Accuracy of Naive biases\")"
   ]
  },
  {
   "cell_type": "markdown",
   "metadata": {},
   "source": [
    "### Tf-Idf"
   ]
  },
  {
   "cell_type": "code",
   "execution_count": 123,
   "metadata": {},
   "outputs": [],
   "source": [
    "tfidf_transformer = TfidfTransformer().fit(train_features)\n",
    "train_tfidf = tfidf_transformer.transform(train_features)\n",
    "\n",
    "test_tfidf = tfidf_transformer.transform(test_features)"
   ]
  },
  {
   "cell_type": "markdown",
   "metadata": {},
   "source": [
    "Accuracy after tf-idf term frequency - inverse document frequency"
   ]
  },
  {
   "cell_type": "code",
   "execution_count": 124,
   "metadata": {},
   "outputs": [
    {
     "name": "stdout",
     "output_type": "stream",
     "text": [
      "AUC: 0.8532666550501294\n",
      "confusion matrix :\n",
      " [[2143  340]\n",
      " [ 394 2123]]\n"
     ]
    },
    {
     "data": {
      "image/png": "[encoded data removed]",
      "text/plain": [
       "<Figure size 432x288 with 1 Axes>"
      ]
     },
     "metadata": {
      "needs_background": "light"
     },
     "output_type": "display_data"
    }
   ],
   "source": [
    "rf_predictions = get_predictions(test_tfidf, train_tfidf, y_test, y_train, RandomForestClassifier(n_estimators=100, random_state=34), \"Accuracy of random forest classifier\")"
   ]
  },
  {
   "cell_type": "code",
   "execution_count": 125,
   "metadata": {},
   "outputs": [
    {
     "name": "stdout",
     "output_type": "stream",
     "text": [
      "AUC: 0.8608126039748077\n",
      "confusion matrix :\n",
      " [[2142  341]\n",
      " [ 355 2162]]\n"
     ]
    },
    {
     "data": {
      "image/png": "[encoded data removed]",
      "text/plain": [
       "<Figure size 432x288 with 1 Axes>"
      ]
     },
     "metadata": {
      "needs_background": "light"
     },
     "output_type": "display_data"
    }
   ],
   "source": [
    "nb_predictions = get_predictions(test_tfidf, train_tfidf, y_test, y_train, MultinomialNB(), \"Accuracy of Naive biases\")"
   ]
  }
 ],
 "metadata": {
  "interpreter": {
   "hash": "d9a4ba7a39ad5692da286452aea182a2f639774b342ad6371c4f013f8b98072d"
  },
  "kernelspec": {
   "display_name": "Python 3.10.4 64-bit",
   "language": "python",
   "name": "python3"
  },
  "language_info": {
   "codemirror_mode": {
    "name": "ipython",
    "version": 3
   },
   "file_extension": ".py",
   "mimetype": "text/x-python",
   "name": "python",
   "nbconvert_exporter": "python",
   "pygments_lexer": "ipython3",
   "version": "3.10.4"
  },
  "orig_nbformat": 4
 },
 "nbformat": 4,
 "nbformat_minor": 2
}
